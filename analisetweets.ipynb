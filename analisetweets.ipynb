{
 "cells": [
  {
   "cell_type": "code",
   "execution_count": 1,
   "id": "fec254a6-220c-4d8d-ae64-84607477bcc2",
   "metadata": {},
   "outputs": [],
   "source": [
    "from pyarrow import fs\n",
    "from pyspark.sql import SparkSession\n",
    "from pyspark.sql.functions import col, split, explode, trim, lower, regexp_replace"
   ]
  },
  {
   "cell_type": "code",
   "execution_count": 2,
   "id": "fe831b35-6e0e-43ff-83e7-008261ec9018",
   "metadata": {},
   "outputs": [],
   "source": [
    "spark = SparkSession.builder.appName(\"Twitter Analysis\").getOrCreate()"
   ]
  },
  {
   "cell_type": "code",
   "execution_count": 3,
   "id": "5d1c64f4-5954-48ef-9b69-0fe50300b48e",
   "metadata": {},
   "outputs": [
    {
     "name": "stdout",
     "output_type": "stream",
     "text": [
      "+-----------------+--------------------+------------+-------------------+--------------------+--------------------+\n",
      "|           target|                 ids|        date|               flag|                user|      text;;;;;;;;;;|\n",
      "+-----------------+--------------------+------------+-------------------+--------------------+--------------------+\n",
      "|\"0,\"\"1467810369\"\"|\"\"Mon Apr 06 22:1...|\"\"NO_QUERY\"\"|\"\"_TheSpecialOne_\"\"|\"\"@switchfoot htt...| that's a bummer....|\n",
      "|\"0,\"\"1467810672\"\"|\"\"Mon Apr 06 22:1...|\"\"NO_QUERY\"\"|  \"\"scotthamilton\"\"|\"\"is upset that h...|                NULL|\n",
      "|\"0,\"\"1467810917\"\"|\"\"Mon Apr 06 22:1...|\"\"NO_QUERY\"\"|       \"\"mattycus\"\"|\"\"@Kenichan I div...|                NULL|\n",
      "|\"0,\"\"1467811184\"\"|\"\"Mon Apr 06 22:1...|\"\"NO_QUERY\"\"|        \"\"ElleCTF\"\"|\"\"my whole body f...|                NULL|\n",
      "|\"0,\"\"1467811193\"\"|\"\"Mon Apr 06 22:1...|\"\"NO_QUERY\"\"|         \"\"Karoli\"\"|\"\"@nationwideclas...| it's not behavin...|\n",
      "|\"0,\"\"1467811372\"\"|\"\"Mon Apr 06 22:2...|\"\"NO_QUERY\"\"|       \"\"joy_wolf\"\"|\"\"@Kwesidei not t...|                NULL|\n",
      "|\"0,\"\"1467811592\"\"|\"\"Mon Apr 06 22:2...|\"\"NO_QUERY\"\"|        \"\"mybirch\"\"|\"\"Need a hug \"\"\";...|                NULL|\n",
      "|\"0,\"\"1467811594\"\"|\"\"Mon Apr 06 22:2...|\"\"NO_QUERY\"\"|           \"\"coZZ\"\"|\"\"@LOLTrish hey  ...|    only a bit  LOL |\n",
      "|\"0,\"\"1467811795\"\"|\"\"Mon Apr 06 22:2...|\"\"NO_QUERY\"\"|\"\"2Hood4Hollywood\"\"|\"\"@Tatiana_K nope...|                NULL|\n",
      "|\"0,\"\"1467812025\"\"|\"\"Mon Apr 06 22:2...|\"\"NO_QUERY\"\"|        \"\"mimismo\"\"|\"\"@twittera que m...|                NULL|\n",
      "|\"0,\"\"1467812416\"\"|\"\"Mon Apr 06 22:2...|\"\"NO_QUERY\"\"| \"\"erinx3leannexo\"\"|\"\"spring break in...|                NULL|\n",
      "|\"0,\"\"1467812579\"\"|\"\"Mon Apr 06 22:2...|\"\"NO_QUERY\"\"|   \"\"pardonlauren\"\"|\"\"I just re-pierc...|                NULL|\n",
      "|\"0,\"\"1467812723\"\"|\"\"Mon Apr 06 22:2...|\"\"NO_QUERY\"\"|           \"\"TLeC\"\"|\"\"@caregiving I c...|                NULL|\n",
      "|\"0,\"\"1467812771\"\"|\"\"Mon Apr 06 22:2...|\"\"NO_QUERY\"\"|\"\"robrobbierobert\"\"|\"\"@octolinz16 It ...| idk why I did ei...|\n",
      "|\"0,\"\"1467812784\"\"|\"\"Mon Apr 06 22:2...|\"\"NO_QUERY\"\"|    \"\"bayofwolves\"\"|\"\"@smarrison i wo...| but i didn't hav...|\n",
      "|\"0,\"\"1467812799\"\"|\"\"Mon Apr 06 22:2...|\"\"NO_QUERY\"\"|     \"\"HairByJess\"\"|\"\"@iamjazzyfizzle...|                NULL|\n",
      "|\"0,\"\"1467812964\"\"|\"\"Mon Apr 06 22:2...|\"\"NO_QUERY\"\"| \"\"lovesongwriter\"\"|\"\"Hollis' death s...|                NULL|\n",
      "|\"0,\"\"1467813137\"\"|\"\"Mon Apr 06 22:2...|\"\"NO_QUERY\"\"|       \"\"armotley\"\"|\"\"about to file t...|                NULL|\n",
      "|\"0,\"\"1467813579\"\"|\"\"Mon Apr 06 22:2...|\"\"NO_QUERY\"\"|     \"\"starkissed\"\"|\"\"@LettyA ahh ive...|                NULL|\n",
      "|\"0,\"\"1467813782\"\"|\"\"Mon Apr 06 22:2...|\"\"NO_QUERY\"\"|      \"\"gi_gi_bee\"\"|\"\"@FakerPattyPatt...|                NULL|\n",
      "+-----------------+--------------------+------------+-------------------+--------------------+--------------------+\n",
      "only showing top 20 rows\n",
      "\n"
     ]
    }
   ],
   "source": [
    "arquivo_csv_local = '/Users/ERICA/Desktop/jupyter/sentiment140.csv'\n",
    "df_spark = spark.read.csv(arquivo_csv_local, header=True, inferSchema=True, sep=\",\")\n",
    "df_spark.show()"
   ]
  },
  {
   "cell_type": "code",
   "execution_count": 4,
   "id": "7bbc1b0e-13b6-4004-ba2c-b7c47b505593",
   "metadata": {},
   "outputs": [
    {
     "name": "stdout",
     "output_type": "stream",
     "text": [
      "+-----------------+--------------------+------------+-------------------+--------------------+--------------------+\n",
      "|           target|                 ids|        date|               flag|                user|                text|\n",
      "+-----------------+--------------------+------------+-------------------+--------------------+--------------------+\n",
      "|\"0,\"\"1467810369\"\"|\"\"Mon Apr 06 22:1...|\"\"NO_QUERY\"\"|\"\"_TheSpecialOne_\"\"|\"\"@switchfoot htt...| that's a bummer....|\n",
      "|\"0,\"\"1467810672\"\"|\"\"Mon Apr 06 22:1...|\"\"NO_QUERY\"\"|  \"\"scotthamilton\"\"|\"\"is upset that h...|                NULL|\n",
      "|\"0,\"\"1467810917\"\"|\"\"Mon Apr 06 22:1...|\"\"NO_QUERY\"\"|       \"\"mattycus\"\"|\"\"@Kenichan I div...|                NULL|\n",
      "|\"0,\"\"1467811184\"\"|\"\"Mon Apr 06 22:1...|\"\"NO_QUERY\"\"|        \"\"ElleCTF\"\"|\"\"my whole body f...|                NULL|\n",
      "|\"0,\"\"1467811193\"\"|\"\"Mon Apr 06 22:1...|\"\"NO_QUERY\"\"|         \"\"Karoli\"\"|\"\"@nationwideclas...| it's not behavin...|\n",
      "|\"0,\"\"1467811372\"\"|\"\"Mon Apr 06 22:2...|\"\"NO_QUERY\"\"|       \"\"joy_wolf\"\"|\"\"@Kwesidei not t...|                NULL|\n",
      "|\"0,\"\"1467811592\"\"|\"\"Mon Apr 06 22:2...|\"\"NO_QUERY\"\"|        \"\"mybirch\"\"|\"\"Need a hug \"\"\";...|                NULL|\n",
      "|\"0,\"\"1467811594\"\"|\"\"Mon Apr 06 22:2...|\"\"NO_QUERY\"\"|           \"\"coZZ\"\"|\"\"@LOLTrish hey  ...|    only a bit  LOL |\n",
      "|\"0,\"\"1467811795\"\"|\"\"Mon Apr 06 22:2...|\"\"NO_QUERY\"\"|\"\"2Hood4Hollywood\"\"|\"\"@Tatiana_K nope...|                NULL|\n",
      "|\"0,\"\"1467812025\"\"|\"\"Mon Apr 06 22:2...|\"\"NO_QUERY\"\"|        \"\"mimismo\"\"|\"\"@twittera que m...|                NULL|\n",
      "|\"0,\"\"1467812416\"\"|\"\"Mon Apr 06 22:2...|\"\"NO_QUERY\"\"| \"\"erinx3leannexo\"\"|\"\"spring break in...|                NULL|\n",
      "|\"0,\"\"1467812579\"\"|\"\"Mon Apr 06 22:2...|\"\"NO_QUERY\"\"|   \"\"pardonlauren\"\"|\"\"I just re-pierc...|                NULL|\n",
      "|\"0,\"\"1467812723\"\"|\"\"Mon Apr 06 22:2...|\"\"NO_QUERY\"\"|           \"\"TLeC\"\"|\"\"@caregiving I c...|                NULL|\n",
      "|\"0,\"\"1467812771\"\"|\"\"Mon Apr 06 22:2...|\"\"NO_QUERY\"\"|\"\"robrobbierobert\"\"|\"\"@octolinz16 It ...| idk why I did ei...|\n",
      "|\"0,\"\"1467812784\"\"|\"\"Mon Apr 06 22:2...|\"\"NO_QUERY\"\"|    \"\"bayofwolves\"\"|\"\"@smarrison i wo...| but i didn't hav...|\n",
      "|\"0,\"\"1467812799\"\"|\"\"Mon Apr 06 22:2...|\"\"NO_QUERY\"\"|     \"\"HairByJess\"\"|\"\"@iamjazzyfizzle...|                NULL|\n",
      "|\"0,\"\"1467812964\"\"|\"\"Mon Apr 06 22:2...|\"\"NO_QUERY\"\"| \"\"lovesongwriter\"\"|\"\"Hollis' death s...|                NULL|\n",
      "|\"0,\"\"1467813137\"\"|\"\"Mon Apr 06 22:2...|\"\"NO_QUERY\"\"|       \"\"armotley\"\"|\"\"about to file t...|                NULL|\n",
      "|\"0,\"\"1467813579\"\"|\"\"Mon Apr 06 22:2...|\"\"NO_QUERY\"\"|     \"\"starkissed\"\"|\"\"@LettyA ahh ive...|                NULL|\n",
      "|\"0,\"\"1467813782\"\"|\"\"Mon Apr 06 22:2...|\"\"NO_QUERY\"\"|      \"\"gi_gi_bee\"\"|\"\"@FakerPattyPatt...|                NULL|\n",
      "+-----------------+--------------------+------------+-------------------+--------------------+--------------------+\n",
      "only showing top 20 rows\n",
      "\n"
     ]
    }
   ],
   "source": [
    "df_spark = df_spark.withColumnRenamed('text;;;;;;;;;;', 'text')\n",
    "df_spark.show()"
   ]
  },
  {
   "cell_type": "code",
   "execution_count": 5,
   "id": "caede31a-9763-46f1-afcf-dbb50132a105",
   "metadata": {},
   "outputs": [],
   "source": [
    "df_consulta = df_spark.withColumn('token', split(lower(trim(col('text'))), r\"[^@#a-zA-Z0-9'-]+\"))\n",
    "df_consulta = df_consulta.withColumn('token', explode(col('token')))\n",
    "df_consulta = df_consulta.filter(col('token') != '')"
   ]
  },
  {
   "cell_type": "code",
   "execution_count": 6,
   "id": "b0a3cc61-79de-4226-a342-68468b94e778",
   "metadata": {},
   "outputs": [
    {
     "name": "stdout",
     "output_type": "stream",
     "text": [
      "Palavras mais usadas:\n",
      "+-----+-----+\n",
      "|token|count|\n",
      "+-----+-----+\n",
      "|    i|19827|\n",
      "|   to|13271|\n",
      "|  the|11153|\n",
      "|  and| 8065|\n",
      "|    a| 7895|\n",
      "|  but| 6898|\n",
      "|   my| 6838|\n",
      "|   it| 6736|\n",
      "|   in| 4799|\n",
      "|   is| 4421|\n",
      "|  you| 4343|\n",
      "|  for| 4309|\n",
      "|   of| 4032|\n",
      "| have| 4000|\n",
      "|   me| 3889|\n",
      "|   so| 3714|\n",
      "|  not| 3607|\n",
      "|   on| 3401|\n",
      "|  i'm| 3298|\n",
      "| that| 3256|\n",
      "+-----+-----+\n",
      "only showing top 20 rows\n",
      "\n"
     ]
    }
   ],
   "source": [
    "df_palavras = df_consulta.groupBy('token').count().orderBy('count', ascending=False)\n",
    "print('Palavras mais usadas:')\n",
    "df_palavras.show(20)"
   ]
  },
  {
   "cell_type": "code",
   "execution_count": 7,
   "id": "e1000402-487e-45a5-871b-92f941b5456a",
   "metadata": {},
   "outputs": [
    {
     "name": "stdout",
     "output_type": "stream",
     "text": [
      "Usuários mais mencionados:\n",
      "+----------------+-----+\n",
      "|           token|count|\n",
      "+----------------+-----+\n",
      "|        @twitter|    9|\n",
      "|     @dannymcfly|    4|\n",
      "|    @dontflashme|    4|\n",
      "|          @reply|    3|\n",
      "|@jonathanrknight|    3|\n",
      "|              @-|    3|\n",
      "|        @replies|    3|\n",
      "|    @davidarchie|    3|\n",
      "|       @ddlovato|    3|\n",
      "|     @nicohilton|    3|\n",
      "|     @markhoppus|    2|\n",
      "| @evaangelinaxxx|    2|\n",
      "|            @the|    2|\n",
      "|      @starbucks|    2|\n",
      "|      @katyperry|    2|\n",
      "|       @msteagan|    2|\n",
      "|        @anneeee|    2|\n",
      "|     @chloemcfly|    2|\n",
      "|  @androidtomato|    2|\n",
      "|     @shankargan|    2|\n",
      "+----------------+-----+\n",
      "only showing top 20 rows\n",
      "\n"
     ]
    }
   ],
   "source": [
    "df_usuarios_mencionados = df_palavras.filter(col('token').startswith('@')).filter(col('token') != '@').orderBy('count', ascending=False)\n",
    "print('Usuários mais mencionados:')\n",
    "df_usuarios_mencionados.show(20)"
   ]
  },
  {
   "cell_type": "code",
   "execution_count": 8,
   "id": "95591145-63ca-4b21-a717-a1e771e43871",
   "metadata": {},
   "outputs": [
    {
     "name": "stdout",
     "output_type": "stream",
     "text": [
      "Hashtags mais frequentes:\n",
      "+---------------+-----+\n",
      "|          token|count|\n",
      "+---------------+-----+\n",
      "|            #fb|   42|\n",
      "|          #fail|   13|\n",
      "|             #1|   10|\n",
      "|       #asot400|   10|\n",
      "|           #bgt|    9|\n",
      "|      #mmwanted|    8|\n",
      "|          #ontd|    7|\n",
      "|             #2|    6|\n",
      "|          #bck5|    6|\n",
      "|    #fixreplies|    6|\n",
      "|      #saveearl|    6|\n",
      "|  #followfriday|    5|\n",
      "|         #asylm|    5|\n",
      "|            #f1|    4|\n",
      "|          #lost|    4|\n",
      "|    #delongeday|    4|\n",
      "|#beatwittyparty|    4|\n",
      "|        #iphone|    3|\n",
      "|#pussycatisland|    3|\n",
      "|      #pawpawty|    3|\n",
      "+---------------+-----+\n",
      "only showing top 20 rows\n",
      "\n"
     ]
    }
   ],
   "source": [
    "df_hashtags = df_palavras.filter(col('token').startswith('#')).filter(col('token') != '#').orderBy('count', ascending=False)\n",
    "print('Hashtags mais frequentes:')\n",
    "df_hashtags.show(20)"
   ]
  }
 ],
 "metadata": {
  "kernelspec": {
   "display_name": "Python 3 (ipykernel)",
   "language": "python",
   "name": "python3"
  },
  "language_info": {
   "codemirror_mode": {
    "name": "ipython",
    "version": 3
   },
   "file_extension": ".py",
   "mimetype": "text/x-python",
   "name": "python",
   "nbconvert_exporter": "python",
   "pygments_lexer": "ipython3",
   "version": "3.12.2"
  }
 },
 "nbformat": 4,
 "nbformat_minor": 5
}
